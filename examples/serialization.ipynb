{
 "cells": [
  {
   "cell_type": "code",
   "execution_count": 1,
   "metadata": {},
   "outputs": [],
   "source": [
    "from docling_core.transforms.serializer import MarkdownDocSerializer\n",
    "from docling_core.transforms.serializer import BaseDocSerializer, MarkdownPictureSerializer\n",
    "from docling_core.types.doc.base import ImageRefMode\n",
    "from docling_core.types.doc.document import PictureClassificationData, PictureDescriptionData, PictureItem, PictureMoleculeData"
   ]
  },
  {
   "cell_type": "markdown",
   "metadata": {},
   "source": [
    "## Example doc 1"
   ]
  },
  {
   "cell_type": "code",
   "execution_count": 2,
   "metadata": {},
   "outputs": [],
   "source": [
    "from pathlib import Path\n",
    "from docling_core.types.doc.document import DoclingDocument\n",
    "\n",
    "\n",
    "doc = DoclingDocument.load_from_yaml(Path(\"..\") / \"test\" / \"data\" / \"doc\" / \"dummy_doc.yaml\")"
   ]
  },
  {
   "cell_type": "markdown",
   "metadata": {},
   "source": [
    "### 1a: Default serializer\n",
    "\n",
    "The default Markdown serializer opts for a caption-based serialization of pictures:"
   ]
  },
  {
   "cell_type": "code",
   "execution_count": 3,
   "metadata": {},
   "outputs": [
    {
     "name": "stdout",
     "output_type": "stream",
     "text": [
      "# DocLayNet: A Large Human-Annotated Dataset for Document-Layout Analysis\n",
      "\n",
      "Figure 1: Four examples of complex page layouts across different document categories\n",
      "\n",
      "<!-- image -->\n"
     ]
    }
   ],
   "source": [
    "serializer = MarkdownDocSerializer(\n",
    "    doc=doc,\n",
    ")\n",
    "text = serializer.serialize().text\n",
    "print(text)"
   ]
  },
  {
   "cell_type": "markdown",
   "metadata": {},
   "source": [
    "### 1b: Custom serializer\n",
    "\n",
    "We can instead customize to do an annotation-based serialization:"
   ]
  },
  {
   "cell_type": "code",
   "execution_count": 4,
   "metadata": {},
   "outputs": [],
   "source": [
    "from docling_core.transforms.serializer.base import SerializationResult\n",
    "\n",
    "\n",
    "class AnnotationMarkdownPictureSerializer(MarkdownPictureSerializer):\n",
    "    def serialize(\n",
    "        self,\n",
    "        *,\n",
    "        item: PictureItem,\n",
    "        doc_serializer: BaseDocSerializer,\n",
    "        doc: DoclingDocument,\n",
    "        image_placeholder: str,\n",
    "        image_mode: ImageRefMode,\n",
    "        **kwargs,\n",
    "    ) -> SerializationResult:\n",
    "        text_parts: list[str] = []\n",
    "\n",
    "        # annotation\n",
    "        ann_text_parts: list[str] = []\n",
    "        for annotation in item.annotations:\n",
    "            if isinstance(annotation, PictureClassificationData):\n",
    "                predicted_class = (\n",
    "                    annotation.predicted_classes[0].class_name\n",
    "                    if annotation.predicted_classes\n",
    "                    else None\n",
    "                )\n",
    "                if predicted_class is not None:\n",
    "                    ann_text_parts.append(f\"Picture type: {predicted_class}\")\n",
    "            elif isinstance(annotation, PictureMoleculeData):\n",
    "                ann_text_parts.append(f\"SMILES: {annotation.smi}\")\n",
    "            elif isinstance(annotation, PictureDescriptionData):\n",
    "                ann_text_parts.append(f\"Description: {annotation.text}\")\n",
    "\n",
    "        ann_text = \"\\n\\n\".join(ann_text_parts)\n",
    "        ann_text = doc_serializer.post_process(text=ann_text)\n",
    "        if ann_text:\n",
    "            text_parts.append(ann_text)\n",
    "\n",
    "        # actual image\n",
    "        img_text = self._serialize_image_part(\n",
    "            item=item,\n",
    "            doc=doc,\n",
    "            image_placeholder=image_placeholder,\n",
    "            image_mode=image_mode,\n",
    "        ).text\n",
    "        if img_text:\n",
    "            text_parts.append(img_text)\n",
    "\n",
    "        text_res = \"\\n\\n\".join(text_parts)\n",
    "\n",
    "        return SerializationResult(text=text_res)"
   ]
  },
  {
   "cell_type": "code",
   "execution_count": 5,
   "metadata": {},
   "outputs": [
    {
     "name": "stdout",
     "output_type": "stream",
     "text": [
      "# DocLayNet: A Large Human-Annotated Dataset for Document-Layout Analysis\n",
      "\n",
      "Picture type: illustration\n",
      "\n",
      "Description: ...\n",
      "\n",
      "SMILES: ...\n",
      "\n",
      "<!-- image -->\n"
     ]
    }
   ],
   "source": [
    "serializer = MarkdownDocSerializer(\n",
    "    doc=doc,\n",
    "    picture_serializer=AnnotationMarkdownPictureSerializer(),\n",
    "    include_formatting=True,\n",
    "    include_hyperlinks=True,\n",
    ")\n",
    "text = serializer.serialize().text\n",
    "print(text)\n"
   ]
  },
  {
   "cell_type": "markdown",
   "metadata": {},
   "source": [
    "## Example doc 2\n",
    "\n",
    "We now look at another document with various items, including also formatting information."
   ]
  },
  {
   "cell_type": "code",
   "execution_count": 6,
   "metadata": {},
   "outputs": [],
   "source": [
    "from examples.utils import construct_test_doc\n",
    "\n",
    "\n",
    "doc = construct_test_doc()"
   ]
  },
  {
   "cell_type": "markdown",
   "metadata": {},
   "source": [
    "### 2a: Default serializer\n",
    "\n",
    "The Markdown serializer by default ignores formatting:"
   ]
  },
  {
   "cell_type": "code",
   "execution_count": 7,
   "metadata": {},
   "outputs": [
    {
     "name": "stdout",
     "output_type": "stream",
     "text": [
      "# Title of the Document\n",
      "\n",
      "## 1. Introduction\n",
      "\n",
      "This is the caption of table 1.\n",
      "\n",
      "| Product   |   Years |   Years |\n",
      "|-----------|---------|---------|\n",
      "| Product   |    2016 |    2017 |\n",
      "| Apple     |   49823 |  695944 |\n",
      "\n",
      "- item 1 of neighboring list\n",
      "- item 2 of neighboring list\n",
      "    - item 1 of sub list\n",
      "    - Here a code snippet: `<p>Hello world</p>` (to be displayed inline)\n",
      "    - Here a formula: $E=mc^2$ (to be displayed inline)\n",
      "\n",
      "Here a code block:\n",
      "\n",
      "```\n",
      "print(\"Hello world\")\n",
      "```\n",
      "\n",
      "Here a formula block:\n",
      "\n",
      "$$E=mc^2$$\n",
      "\n",
      "<!-- missing-key-value-item -->\n",
      "\n",
      "<!-- missing-form-item -->\n",
      "\n",
      "Some formatting chops: **bold** *italic* underline ~~strikethrough~~ [hyperlink](.) &amp; [~~***everything at the same time.***~~](https://github.com/DS4SD/docling)\n"
     ]
    }
   ],
   "source": [
    "serializer = MarkdownDocSerializer(\n",
    "    doc=doc,\n",
    ")\n",
    "text = serializer.serialize().text\n",
    "print(text)"
   ]
  },
  {
   "cell_type": "markdown",
   "metadata": {},
   "source": [
    "### 2b: Reconfigured serializer\n",
    "\n",
    "We can instead configure the serializer to consider formatting and hyperlinks:"
   ]
  },
  {
   "cell_type": "code",
   "execution_count": 8,
   "metadata": {},
   "outputs": [
    {
     "name": "stdout",
     "output_type": "stream",
     "text": [
      "# Title of the Document\n",
      "\n",
      "## 1. Introduction\n",
      "\n",
      "This is the caption of table 1.\n",
      "\n",
      "- item 1 of neighboring list\n",
      "- item 2 of neighboring list\n",
      "    - item 1 of sub list\n",
      "    - Here a code snippet: `<p>Hello world</p>` (to be displayed inline)\n",
      "    - Here a formula: $E=mc^2$ (to be displayed inline)\n",
      "\n",
      "Here a code block:\n",
      "\n",
      "```\n",
      "print(\"Hello world\")\n",
      "```\n",
      "\n",
      "Here a formula block:\n",
      "\n",
      "$$E=mc^2$$\n",
      "\n",
      "<!-- missing-key-value-item -->\n",
      "\n",
      "<!-- missing-form-item -->\n",
      "\n",
      "Some formatting chops: **bold** *italic* underline ~~strikethrough~~ [hyperlink](.) &amp; [~~***everything at the same time.***~~](https://github.com/DS4SD/docling)\n"
     ]
    }
   ],
   "source": [
    "from docling_core.transforms.serializer.base import _DEFAULT_LABELS\n",
    "from docling_core.types.doc.document import DOCUMENT_TOKENS_EXPORT_LABELS, ContentLayer\n",
    "from docling_core.types.doc.labels import DocItemLabel\n",
    "\n",
    "\n",
    "serializer = MarkdownDocSerializer(\n",
    "    doc=doc,\n",
    "    labels=DOCUMENT_TOKENS_EXPORT_LABELS - {DocItemLabel.TABLE},\n",
    ")\n",
    "text = serializer.serialize().text\n",
    "print(text)"
   ]
  },
  {
   "cell_type": "code",
   "execution_count": 9,
   "metadata": {},
   "outputs": [
    {
     "name": "stdout",
     "output_type": "stream",
     "text": [
      "# Title of the Document\n",
      "\n",
      "## 1. Introduction\n",
      "\n",
      "This is the caption of table 1.\n",
      "\n",
      "| Product   |   Years |   Years |\n",
      "|-----------|---------|---------|\n",
      "| Product   |    2016 |    2017 |\n",
      "| Apple     |   49823 |  695944 |\n",
      "\n",
      "- item 1 of neighboring list\n",
      "- item 2 of neighboring list\n",
      "  - item 1 of sub list\n",
      "  - Here a code snippet: `<p>Hello world</p>` (to be displayed inline)\n",
      "  - Here a formula: $E=mc^2$ (to be displayed inline)\n",
      "\n",
      "Here a code block:\n",
      "\n",
      "```\n",
      "print(\"Hello world\")\n",
      "```\n",
      "\n",
      "Here a formula block:\n",
      "\n",
      "$$E=mc^2$$\n",
      "\n",
      "<!-- missing-key-value-item -->\n",
      "\n",
      "<!-- missing-form-item -->\n",
      "\n",
      "Some formatting chops: **bold** *italic* underline ~~strikethrough~~ [hyperlink](.) &amp; [~~***everything at the same time.***~~](https://github.com/DS4SD/docling)\n"
     ]
    }
   ],
   "source": [
    "from docling_core.transforms.serializer.markdown import MarkdownListSerializer\n",
    "\n",
    "\n",
    "serializer = MarkdownDocSerializer(\n",
    "    doc=doc,\n",
    "    list_serializer=MarkdownListSerializer(\n",
    "        indent=2,\n",
    "    )\n",
    ")\n",
    "text = serializer.serialize().text\n",
    "print(text)"
   ]
  },
  {
   "cell_type": "code",
   "execution_count": 10,
   "metadata": {},
   "outputs": [],
   "source": [
    "doc = DoclingDocument.load_from_json(Path(\"2408.09869v5.json\"))"
   ]
  },
  {
   "cell_type": "code",
   "execution_count": 11,
   "metadata": {},
   "outputs": [
    {
     "name": "stdout",
     "output_type": "stream",
     "text": [
      "<!-- image -->\n",
      "\n",
      "## Docling Technical Report\n",
      "\n",
      "Version 1.0\n",
      "\n",
      "Christoph Auer Maksym Lysak Ahmed Nassar Michele Dolfi Nikolaos Livathinos Panos Vagenas Cesar Berrospi Ramis Matteo Omenetti Fabian Lindlbauer Kasper Dinkla Lokesh Mishra Yusik Kim Shubham Gupta Rafael Teixeira de Lima Valery Weber Lucas Morin Ingmar Meijer Viktor Kuropiatnyk Peter W. J. Staar\n",
      "\n",
      "AI4K Group, IBM Research R¨ uschlikon, Switzerland\n",
      "\n",
      "## Abstract\n",
      "\n",
      "This technical report introduces Docling , an easy to use, self-contained, MITlicensed open-source package for PDF document conversion. It is powered by state-of-the-art specialized AI models for layout analysis (DocLayNet) and table structure recognition (TableFormer), and runs efficiently on commodity hardware in a small resource budget. The code interface allows for easy extensibility and addition of new features and models.\n",
      "\n",
      "## 1 Introduction\n",
      "\n",
      "Converting PDF documents back into a machine-processable format has been a major challenge for decades due to their huge variability in formats, weak standardization and printing-optimized characteristic, which discards most structural features and metadata. With the advent of LLMs and popular application patterns such as retrieval-augmented generation (RAG), leveraging the rich content embedded in PDFs has become ever more relevant. In the past decade, several powerful document understanding solutions have emerged on the market, most of which are commercial software, cloud offerings [3] and most recently, multi-modal vision-language models. As of today, only a handful of open-source tools cover PDF conversion, leaving a significant feature and quality gap to proprietary solutions.\n",
      "\n",
      "With Docling , we open-source a very capable and efficient document conversion tool which builds on the powerful, specialized AI models and datasets for layout analysis and table structure recognition we developed and presented in the recent past [12, 13, 9]. Docling is designed as a simple, self-contained python library with permissive license, running entirely locally on commodity hardware. Its code architecture allows for easy extensibility and addition of new features and models.\n"
     ]
    }
   ],
   "source": [
    "serializer = MarkdownDocSerializer(\n",
    "    doc=doc,\n",
    "    pages=[1],\n",
    "    image_mode=ImageRefMode.PLACEHOLDER,\n",
    ")\n",
    "text = serializer.serialize().text\n",
    "print(text)"
   ]
  },
  {
   "cell_type": "code",
   "execution_count": 12,
   "metadata": {},
   "outputs": [
    {
     "name": "stdout",
     "output_type": "stream",
     "text": [
      "## Docling Technical Report\n",
      "\n",
      "Version 1.0\n",
      "\n",
      "Christoph Auer Maksym Lysak Ahmed Nassar Michele Dolfi Nikolaos Livathinos Panos Vagenas Cesar Berrospi Ramis Matteo Omenetti Fabian Lindlbauer Kasper Dinkla Lokesh Mishra Yusik Kim Shubham Gupta Rafael Teixeira de Lima Valery Weber Lucas Morin Ingmar Meijer Viktor Kuropiatnyk Peter W. J. Staar\n",
      "\n",
      "AI4K Group, IBM Research R¨ uschlikon, Switzerland\n",
      "\n",
      "## Abstract\n",
      "\n",
      "This technical report introduces Docling , an easy to use, self-contained, MITlicensed open-source package for PDF document conversion. It is powered by state-of-the-art specialized AI models for layout analysis (DocLayNet) and table structure recognition (TableFormer), and runs efficiently on commodity hardware in a small resource budget. The code interface allows for easy extensibility and addition of new features and models.\n"
     ]
    }
   ],
   "source": [
    "serializer = MarkdownDocSerializer(\n",
    "    doc=doc,\n",
    "    start=2,\n",
    "    stop=10,\n",
    "    image_mode=ImageRefMode.PLACEHOLDER,\n",
    ")\n",
    "text = serializer.serialize().text\n",
    "print(text)"
   ]
  }
 ],
 "metadata": {
  "kernelspec": {
   "display_name": ".venv",
   "language": "python",
   "name": "python3"
  },
  "language_info": {
   "codemirror_mode": {
    "name": "ipython",
    "version": 3
   },
   "file_extension": ".py",
   "mimetype": "text/x-python",
   "name": "python",
   "nbconvert_exporter": "python",
   "pygments_lexer": "ipython3",
   "version": "3.12.8"
  }
 },
 "nbformat": 4,
 "nbformat_minor": 2
}
